{
  "nbformat": 4,
  "nbformat_minor": 0,
  "metadata": {
    "colab": {
      "name": "Untitled4.ipynb",
      "provenance": [],
      "authorship_tag": "ABX9TyO1P5irLEIZTghUftMX3Qkf",
      "include_colab_link": true
    },
    "kernelspec": {
      "name": "python3",
      "display_name": "Python 3"
    }
  },
  "cells": [
    {
      "cell_type": "markdown",
      "metadata": {
        "id": "view-in-github",
        "colab_type": "text"
      },
      "source": [
        "<a href=\"https://colab.research.google.com/github/Svetlana16P/OOAP/blob/master/Untitled4.ipynb\" target=\"_parent\"><img src=\"https://colab.research.google.com/assets/colab-badge.svg\" alt=\"Open In Colab\"/></a>"
      ]
    },
    {
      "cell_type": "markdown",
      "metadata": {
        "id": "3SlNfeu0parn",
        "colab_type": "text"
      },
      "source": [
        "Упражнение №1\n"
      ]
    },
    {
      "cell_type": "code",
      "metadata": {
        "id": "1N8_P2ndpS9_",
        "colab_type": "code",
        "colab": {
          "base_uri": "https://localhost:8080/",
          "height": 34
        },
        "outputId": "28ef65c3-2a0b-475e-ced9-7c0527d056fc"
      },
      "source": [
        "def decorator_function(dec_fu):\n",
        "    def result_function(nums):\n",
        "        cost = dec_fu(nums)\n",
        "        if cost == 0:\n",
        "            print('Нету(')\n",
        "        elif cost > 10:\n",
        "            print('Слишком много')\n",
        "        else:\n",
        "            print(cost)\n",
        "\n",
        "    return result_function\n",
        "\n",
        "\n",
        "@decorator_function\n",
        "def even_numers(nums):\n",
        "    result = 0\n",
        "    for elem in nums:\n",
        "        if elem % 2 == 0:\n",
        "            result += 1\n",
        "    return result\n",
        "\n",
        "\n",
        "even_numers([9,9,9,9,9])\n"
      ],
      "execution_count": 1,
      "outputs": [
        {
          "output_type": "stream",
          "text": [
            "Нету(\n"
          ],
          "name": "stdout"
        }
      ]
    },
    {
      "cell_type": "markdown",
      "metadata": {
        "id": "EzScqquBpnoF",
        "colab_type": "text"
      },
      "source": [
        "Упражнение №2\n"
      ]
    },
    {
      "cell_type": "code",
      "metadata": {
        "id": "3bpWwV1ZprUc",
        "colab_type": "code",
        "colab": {
          "base_uri": "https://localhost:8080/",
          "height": 34
        },
        "outputId": "4e5b3e06-9f07-4627-cff4-499148efe9be"
      },
      "source": [
        "def dec_method(method_to_dec):\n",
        "    def foo(self, other):\n",
        "        obg3 = method_to_dec(self, other)\n",
        "        print(f'({self.x},{self.y}) + ({other.x},{other.y}) = ({obg3.x},{obg3.y})')\n",
        "    return foo\n",
        "\n",
        "\n",
        "\n",
        "\n",
        "class Vector:\n",
        "    def __init__(self, x = 0, y = 0):\n",
        "        self.x = x\n",
        "        self.y = y\n",
        "    @dec_method\n",
        "    def __add__(self, other):\n",
        "        return Vector(self.x + other.x, self.y + other.y)\n",
        "\n",
        "\n",
        "obg1 = Vector(5, 7)\n",
        "obg2 = Vector(3, 8)\n",
        "obg3 = obg1 + obg2"
      ],
      "execution_count": 3,
      "outputs": [
        {
          "output_type": "stream",
          "text": [
            "(5,7) + (3,8) = (8,15)\n"
          ],
          "name": "stdout"
        }
      ]
    },
    {
      "cell_type": "markdown",
      "metadata": {
        "id": "ohSrTyALp02S",
        "colab_type": "text"
      },
      "source": [
        "Пример 1"
      ]
    },
    {
      "cell_type": "code",
      "metadata": {
        "id": "axQ0AF_Ap2nl",
        "colab_type": "code",
        "colab": {}
      },
      "source": [
        "class TestClass:\n",
        "\n",
        "    def __init__(self):\n",
        "        self.public_variable = \"I'm public!\"\n",
        "        self.__private_variable = \"I'm too shy to be public!\"\n",
        "\n",
        "    def get_public_variable(self):\n",
        "        return self.public_variable\n",
        "\n",
        "    def get_private_variable(self):\n",
        "        return self.__private_variable\n",
        "\n",
        "if __name__ == \"__main__\":\n",
        "    test_class = TestClass()\n",
        "    print(\" \".join([\"Public variable:\", test_class.get_public_variable()]))\n",
        "    print(\" \".join([\"Public variable:\", test_class.public_variable]))\n",
        "\n",
        "    print(\" \".join([\"Private variable:\", test_class.get_private_variable()]))\n",
        "    print(\" \".join([\"Private variable:\", test_class._private_variable]))\n"
      ],
      "execution_count": 0,
      "outputs": []
    },
    {
      "cell_type": "markdown",
      "metadata": {
        "id": "2rPvQL9jp__I",
        "colab_type": "text"
      },
      "source": [
        "Пример 2\n"
      ]
    },
    {
      "cell_type": "code",
      "metadata": {
        "id": "6B_mri3mqBdR",
        "colab_type": "code",
        "colab": {
          "base_uri": "https://localhost:8080/",
          "height": 34
        },
        "outputId": "3620f899-9e08-40e2-943a-519d6fd16f9d"
      },
      "source": [
        "class UniversityMember:\n",
        "    passToUniversity = ''\n",
        "    status = True\n",
        "\n",
        "    def checkStatus(self):\n",
        "        return self.status\n",
        "\n",
        "    def dismiss(self):\n",
        "        self.status = False\n",
        "        self.pass_to_university = None\n",
        "\n",
        "class Student(UniversityMember):\n",
        "    group = None\n",
        "\n",
        "class Teacher(UniversityMember):\n",
        "    cathedral = None\n",
        "\n",
        "class Administrator(UniversityMember):\n",
        "    pass\n",
        "\n",
        "a = Student()\n",
        "print(a.checkStatus())"
      ],
      "execution_count": 5,
      "outputs": [
        {
          "output_type": "stream",
          "text": [
            "True\n"
          ],
          "name": "stdout"
        }
      ]
    },
    {
      "cell_type": "markdown",
      "metadata": {
        "id": "pzYTeb6GqJbm",
        "colab_type": "text"
      },
      "source": [
        "Пример 3\n"
      ]
    },
    {
      "cell_type": "code",
      "metadata": {
        "id": "gM9TcBX_qKtd",
        "colab_type": "code",
        "colab": {
          "base_uri": "https://localhost:8080/",
          "height": 67
        },
        "outputId": "db6100fa-fa95-4812-e686-4ee7b44ddd42"
      },
      "source": [
        "import datetime as dt\n",
        "\n",
        "class Person:\n",
        "    def __init__(self, name, age):\n",
        "        self.name = name\n",
        "        self.age = age\n",
        "\n",
        "    # classmethod чтобы создать объект по году рождения,\n",
        "    # \"альтернативный\" конструктор\n",
        "    @classmethod\n",
        "    def fromBirthYear(cls, name, year):\n",
        "        return cls(name, dt.date.today().year - year)\n",
        "\n",
        "    # статический метод,чтобы проверить совершеннолетие\n",
        "    @staticmethod\n",
        "    def isAdult(age):\n",
        "        return age > 18\n",
        "\n",
        "person1 = Person('Петя', 21)\n",
        "person2 = Person.fromBirthYear('Петя', 1996)\n",
        "\n",
        "print(person1.age)\n",
        "print(person2.age)\n",
        "\n",
        "# print the result\n",
        "print(Person.isAdult(22))\n"
      ],
      "execution_count": 4,
      "outputs": [
        {
          "output_type": "stream",
          "text": [
            "21\n",
            "24\n",
            "True\n"
          ],
          "name": "stdout"
        }
      ]
    }
  ]
}